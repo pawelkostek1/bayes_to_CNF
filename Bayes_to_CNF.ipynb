{
 "cells": [
  {
   "cell_type": "code",
   "execution_count": 174,
   "metadata": {},
   "outputs": [],
   "source": [
    "import numpy as np\n",
    "import pandas as pd\n",
    "import matplotlib\n",
    "%matplotlib inline"
   ]
  },
  {
   "cell_type": "code",
   "execution_count": null,
   "metadata": {},
   "outputs": [],
   "source": [
    "\n"
   ]
  },
  {
   "cell_type": "code",
   "execution_count": 175,
   "metadata": {},
   "outputs": [],
   "source": [
    "#Open the problem file\n",
    "problem = open(\"test_problem.uai\", \"r\")\n",
    "\n",
    "#Define problem variables\n",
    "preamble = problem.readline().rstrip('\\n')\n",
    "numOfvars = 0\n",
    "cardinalities = {}\n",
    "numOfCliques = 0\n",
    "cliques = {}\n",
    "cliques_size = {}\n",
    "sizeOfCPT = []\n",
    "CPT_weights = []\n",
    "\n",
    "#Read the file into the problem variables\n",
    "if preamble == \"MARKOV\" or preamble == \"BAYES\":\n",
    "    \n",
    "    #Read the cardinalities\n",
    "    numOfvars = int(problem.readline())\n",
    "    cardinalities = [int(i) for i in problem.readline().split(' ')]\n",
    "    \n",
    "    #Read the cliques\n",
    "    numOfCliques = int(problem.readline())\n",
    "    for i in range(numOfCliques):\n",
    "        temp_clique = [int(i) for i in problem.readline().split(' ')]\n",
    "        cliques_size[i] = temp_clique[0]\n",
    "        cliques[i] = temp_clique[1:]\n",
    "    \n",
    "    #Read the conditional probability table\n",
    "    for i in range(numOfCliques):\n",
    "        #Assumes blank line - should be skipped\n",
    "        skipLine = problem.readline()\n",
    "        \n",
    "        sizeOfCPT.append(int(problem.readline()))\n",
    "        temp_CPT = [[float(i) for i in problem.readline().split(' ')[1:]]]\n",
    "        linesLeftToRead = int(sizeOfCPT[-1]/len(temp_CPT[0])) - 1\n",
    "        for j in range(linesLeftToRead):\n",
    "            temp_CPT.append([float(i) for i in problem.readline().split(' ')[1:]])\n",
    "        #CPT.append(temp_CPT)\n",
    "        CPT_weights.append(np.concatenate(temp_CPT).tolist())\n",
    "else:\n",
    "    print(\"The file provided does not correctly specify the problem type. Supported preambles are 'BAYES' and 'MARKOV'.\")\n",
    "\n",
    "#Close the problem file\n",
    "problem.close()"
   ]
  },
  {
   "cell_type": "code",
   "execution_count": 176,
   "metadata": {},
   "outputs": [
    {
     "data": {
      "text/plain": [
       "[[0.21, 0.333, 0.457, 0.811, 0.0, 0.189]]"
      ]
     },
     "execution_count": 176,
     "metadata": {},
     "output_type": "execute_result"
    }
   ],
   "source": [
    "CPT_weights"
   ]
  },
  {
   "cell_type": "code",
   "execution_count": 177,
   "metadata": {},
   "outputs": [],
   "source": [
    "#Considering cliques construct CPT states\n",
    "def construct_CPT_states(clique):\n",
    "    temp_CPT_states = []\n",
    "    #Base case\n",
    "    if len(clique) == 1:\n",
    "        #print(\"Base case\")\n",
    "        for cardinality in range(cardinalities[clique[0]]):\n",
    "            temp_CPT_states.append([cardinality])\n",
    "        #print(temp_CPT_states)\n",
    "        return temp_CPT_states\n",
    "    #Recursive case\n",
    "    else:\n",
    "        #print(\"Recursive case\")\n",
    "        CPT_states = construct_CPT_states(clique[1:])\n",
    "        for cardinality in range(cardinalities[clique[0]]):\n",
    "            for row in CPT_states:\n",
    "                temp_CPT_states.append(np.concatenate([[cardinality], row]).tolist())\n",
    "        #print(temp_CPT_states)\n",
    "        return temp_CPT_states\n",
    "\n",
    "CPT_states = []\n",
    "for key in cliques.keys():\n",
    "    CPT_states.append(construct_CPT_states(cliques[key]))"
   ]
  },
  {
   "cell_type": "code",
   "execution_count": 178,
   "metadata": {},
   "outputs": [
    {
     "data": {
      "text/plain": [
       "[[[0, 0], [0, 1], [1, 0], [1, 1], [2, 0], [2, 1]]]"
      ]
     },
     "execution_count": 178,
     "metadata": {},
     "output_type": "execute_result"
    }
   ],
   "source": [
    "CPT_states"
   ]
  },
  {
   "cell_type": "code",
   "execution_count": 179,
   "metadata": {},
   "outputs": [],
   "source": [
    "#Open the query (evidence) file \n",
    "query = open(\"test_problem.uai.evid\", \"r\")\n",
    "\n",
    "#Read the query file into the query variables\n",
    "query_vec = [int(i) for i in query.read().split(' ')]\n",
    "numOfObservedVars = query_vec[0]\n",
    "observations = {}\n",
    "for i in range(numOfObservedVars):\n",
    "    observations[query_vec[2*i+1]] = query_vec[2*i+2]\n",
    "\n",
    "#Close the query file\n",
    "query.close()"
   ]
  },
  {
   "cell_type": "code",
   "execution_count": 180,
   "metadata": {},
   "outputs": [
    {
     "data": {
      "text/plain": [
       "{1: 1}"
      ]
     },
     "execution_count": 180,
     "metadata": {},
     "output_type": "execute_result"
    }
   ],
   "source": [
    "observations"
   ]
  },
  {
   "cell_type": "code",
   "execution_count": 181,
   "metadata": {},
   "outputs": [],
   "source": [
    "#Produce encodings for the indicator variables \n",
    "# of the elementary assignments (X_i,j)\n",
    "indicatorVars = {}\n",
    "encoding = 1\n",
    "for var in range(numOfvars):\n",
    "    indicatorVars[var] = []\n",
    "    for cardinality in range(cardinalities[var]):\n",
    "        indicatorVars[var].append(encoding)\n",
    "        encoding = encoding + 1\n",
    "\n",
    "#Produce encodings for each conditional probability weight in every CPT\n",
    "weightIndicatorVars = {}\n",
    "for c in range(numOfCliques):\n",
    "    weightIndicatorVars[c] = []\n",
    "    for w in range(sizeOfCPT[c]):\n",
    "        weightIndicatorVars[c].append(encoding)\n",
    "        encoding = encoding + 1\n",
    "\n",
    "numOfFormulaVars = encoding - 1\n",
    "F = []\n",
    "#Generate clauses for elementary assignements\n",
    "#For each variable constructs the corresponding clauses\n",
    "for var in range(numOfvars):\n",
    "    #Genrate clause for possible states of the variable i\n",
    "    clause = []\n",
    "    for cardinality in range(cardinalities[var]):\n",
    "        clause.append(indicatorVars[var][cardinality])\n",
    "    F.append(clause)\n",
    "    \n",
    "    #Generate clause for every different pair of possible states\n",
    "    # of the variable i\n",
    "    for n in range(cardinalities[var]):\n",
    "        for m in range(n+1, cardinalities[var]):\n",
    "            clause = []\n",
    "            clause.append(-indicatorVars[var][n])\n",
    "            clause.append(-indicatorVars[var][m])\n",
    "            if len(clause) != 0:\n",
    "                F.append(clause)\n",
    "        \n",
    "#Genrate clauses for the CPT\n",
    "# Incorporates following optimizations:\n",
    "# 1. Determinism (zero weights)\n",
    "for c in range(numOfCliques):\n",
    "    for i in range(sizeOfCPT[c]):\n",
    "        clause = []\n",
    "        #Take adventage of the determinism\n",
    "        if weightIndicatorVars[c][i] == 0:\n",
    "            for j in range(len(cliques[c])):\n",
    "                clause.append(-indicatorVars[cliques[c][j]][CPT_states[c][i][j]])\n",
    "        else:\n",
    "            for j in range(len(cliques[c])):\n",
    "                clause.append(-indicatorVars[cliques[c][j]][CPT_states[c][i][j]])\n",
    "                F.append([indicatorVars[cliques[c][j]][CPT_states[c][i][j]],-weightIndicatorVars[c][i]])\n",
    "            clause.append(weightIndicatorVars[c][i])\n",
    "        F.append(clause)\n",
    "numOfClauses = len(F)"
   ]
  },
  {
   "cell_type": "code",
   "execution_count": 182,
   "metadata": {},
   "outputs": [
    {
     "data": {
      "text/plain": [
       "[[1, 2, 3],\n",
       " [-1, -2],\n",
       " [-1, -3],\n",
       " [-2, -3],\n",
       " [4, 5],\n",
       " [-4, -5],\n",
       " [1, -6],\n",
       " [4, -6],\n",
       " [-1, -4, 6],\n",
       " [1, -7],\n",
       " [5, -7],\n",
       " [-1, -5, 7],\n",
       " [2, -8],\n",
       " [4, -8],\n",
       " [-2, -4, 8],\n",
       " [2, -9],\n",
       " [5, -9],\n",
       " [-2, -5, 9],\n",
       " [3, -10],\n",
       " [4, -10],\n",
       " [-3, -4, 10],\n",
       " [3, -11],\n",
       " [5, -11],\n",
       " [-3, -5, 11]]"
      ]
     },
     "execution_count": 182,
     "metadata": {},
     "output_type": "execute_result"
    }
   ],
   "source": [
    "F"
   ]
  },
  {
   "cell_type": "code",
   "execution_count": 187,
   "metadata": {},
   "outputs": [],
   "source": [
    "#Generate CNF file\n",
    "CNF_file = open(\"test_problem.cnf\", \"w\")\n",
    "CNF_file.write(\"p cnf \" + str(numOfFormulaVars) + \" \" + str(numOfClauses) + \"\\n\")\n",
    "for clause in F:\n",
    "    CNF_file.write(\" \".join(map(str, clause))+\" 0\\n\")\n",
    "CNF_file.close()"
   ]
  },
  {
   "cell_type": "code",
   "execution_count": 184,
   "metadata": {},
   "outputs": [],
   "source": [
    "#Generate weights\n",
    "weights = {}\n",
    "#For state indicator variables\n",
    "for var in range(numOfvars):\n",
    "    for cardinality in range(cardinalities[var]): \n",
    "        weights[indicatorVars[var][cardinality]] = 1 \n",
    "        weights[-indicatorVars[var][cardinality]] = 1 \n",
    "#For weight indicator variables\n",
    "for c in range(numOfCliques):\n",
    "    for w in range(sizeOfCPT[c]):\n",
    "        weights[weightIndicatorVars[c][w]] = CPT_weights[c][w]\n",
    "        weights[-weightIndicatorVars[c][w]] = 1"
   ]
  },
  {
   "cell_type": "code",
   "execution_count": 185,
   "metadata": {},
   "outputs": [
    {
     "data": {
      "text/plain": [
       "{1: 1,\n",
       " -1: 1,\n",
       " 2: 1,\n",
       " -2: 1,\n",
       " 3: 1,\n",
       " -3: 1,\n",
       " 4: 1,\n",
       " -4: 1,\n",
       " 5: 1,\n",
       " -5: 1,\n",
       " 6: 0.21,\n",
       " -6: 1,\n",
       " 7: 0.333,\n",
       " -7: 1,\n",
       " 8: 0.457,\n",
       " -8: 1,\n",
       " 9: 0.811,\n",
       " -9: 1,\n",
       " 10: 0.0,\n",
       " -10: 1,\n",
       " 11: 0.189,\n",
       " -11: 1}"
      ]
     },
     "execution_count": 185,
     "metadata": {},
     "output_type": "execute_result"
    }
   ],
   "source": [
    "weights"
   ]
  },
  {
   "cell_type": "code",
   "execution_count": 190,
   "metadata": {},
   "outputs": [],
   "source": [
    "#Generate weights file\n",
    "weights_file = open(\"test_problem.weights\", \"w\")\n",
    "weights_file.write(\"p cnf \" + str(numOfFormulaVars) + \"\\n\")\n",
    "for var in weights.keys():\n",
    "    weights_file.write(\"w \" + str(var) + \" \" + str(weights[var]) + \" 0\\n\")\n",
    "weights_file.close()"
   ]
  },
  {
   "cell_type": "code",
   "execution_count": null,
   "metadata": {},
   "outputs": [],
   "source": []
  }
 ],
 "metadata": {
  "kernelspec": {
   "display_name": "Python 3",
   "language": "python",
   "name": "python3"
  },
  "language_info": {
   "codemirror_mode": {
    "name": "ipython",
    "version": 3
   },
   "file_extension": ".py",
   "mimetype": "text/x-python",
   "name": "python",
   "nbconvert_exporter": "python",
   "pygments_lexer": "ipython3",
   "version": "3.6.5"
  }
 },
 "nbformat": 4,
 "nbformat_minor": 2
}
