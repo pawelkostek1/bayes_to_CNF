{
 "cells": [
  {
   "cell_type": "code",
   "execution_count": 1,
   "metadata": {},
   "outputs": [],
   "source": [
    "import numpy as np\n",
    "import pandas as pd\n",
    "import matplotlib\n",
    "%matplotlib inline"
   ]
  },
  {
   "cell_type": "code",
   "execution_count": null,
   "metadata": {},
   "outputs": [],
   "source": [
    "\n"
   ]
  },
  {
   "cell_type": "code",
   "execution_count": 51,
   "metadata": {},
   "outputs": [
    {
     "name": "stdout",
     "output_type": "stream",
     "text": [
      "[1, 0]\n",
      "[2, 0, 1]\n",
      "[2, 1, 2]\n"
     ]
    },
    {
     "data": {
      "text/plain": [
       "{0: [0], 1: [0, 1], 2: [1, 2]}"
      ]
     },
     "execution_count": 51,
     "metadata": {},
     "output_type": "execute_result"
    }
   ],
   "source": [
    "#Open the problem file\n",
    "problem = open(\"problem.uai\", \"r\")\n",
    "\n",
    "#Define problem variables\n",
    "preamble = problem.readline().rstrip('\\n')\n",
    "numOfvars = 0\n",
    "cardinalities = {}\n",
    "numOfCliques = 0\n",
    "cliques = {}\n",
    "sizeOfCPT = []\n",
    "CPT_weights = []\n",
    "\n",
    "#Read the file into the problem variables\n",
    "if preamble == \"MARKOV\" or preamble == \"BAYES\":\n",
    "    \n",
    "    #Read the cardinalities\n",
    "    numOfvars = int(problem.readline())\n",
    "    cardinalities = [int(i) for i in problem.readline().split(' ')]\n",
    "    \n",
    "    #Read the cliques\n",
    "    numOfCliques = int(problem.readline())\n",
    "    for i in range(numOfCliques):\n",
    "        temp_clique = [int(i) for i in problem.readline().split(' ')]\n",
    "        cliques[i] = temp_clique[1:]\n",
    "    \n",
    "    #Read the conditional probability table\n",
    "    for i in range(numOfvars):\n",
    "        #Assumes blank line - should be skipped\n",
    "        skipLine = problem.readline()\n",
    "        \n",
    "        sizeOfCPT.append(int(problem.readline()))\n",
    "        temp_CPT = [[float(i) for i in problem.readline().split(' ')[1:]]]\n",
    "        linesLeftToRead = int(sizeOfCPT[-1]/len(temp_CPT[0])) - 1\n",
    "        for j in range(linesLeftToRead):\n",
    "            temp_CPT.append([float(i) for i in problem.readline().split(' ')[1:]])\n",
    "        #CPT.append(temp_CPT)\n",
    "        CPT_weights.append(np.concatenate(temp_CPT).tolist())\n",
    "else:\n",
    "    print(\"The file provided does not correctly specify the problem type. Supported preambles are 'BAYES' and 'MARKOV'.\")\n",
    "\n",
    "#Close the problem file\n",
    "problem.close()\n",
    "cliques"
   ]
  },
  {
   "cell_type": "code",
   "execution_count": 25,
   "metadata": {},
   "outputs": [
    {
     "data": {
      "text/plain": [
       "[[0.436, 0.564],\n",
       " [0.128, 0.872, 0.92, 0.08],\n",
       " [0.21, 0.333, 0.457, 0.811, 0.0, 0.189]]"
      ]
     },
     "execution_count": 25,
     "metadata": {},
     "output_type": "execute_result"
    }
   ],
   "source": [
    "CPT_weights"
   ]
  },
  {
   "cell_type": "code",
   "execution_count": 40,
   "metadata": {},
   "outputs": [
    {
     "data": {
      "text/plain": [
       "[[1, 0], [2, 0, 1], [2, 1, 2]]"
      ]
     },
     "execution_count": 40,
     "metadata": {},
     "output_type": "execute_result"
    }
   ],
   "source": [
    "#Considering cliques construct CPT states\n",
    "def construct_CPT_states(clique, CPT_state = []):\n",
    "    temp_CPT_states = []\n",
    "    if len(clique) == 1:\n",
    "        for cardinality in range(cardinalities[clique[0]]):\n",
    "            temp_CPT_states.append([cardinality])\n",
    "        return temp_CPT_states\n",
    "    else:\n",
    "        for cardinality in range(cardinalities[clique[0]]):\n",
    "            for row in (CPT_states):\n",
    "                temp_CPT_states.append(np.concatenate([cardinality], row).tolist())\n",
    "        return construct_CPT_states(clique[1:], temp_CPT_states)\n",
    "CPT_states = []\n",
    "construct_CPT_states(cliques[2])\n",
    "\n",
    "cliques"
   ]
  },
  {
   "cell_type": "code",
   "execution_count": 21,
   "metadata": {},
   "outputs": [],
   "source": [
    "#Open the query (evidence) file \n",
    "query = open(\"problem.uai.evid\", \"r\")\n",
    "\n",
    "#Read the query file into the query variables\n",
    "query_vec = [int(i) for i in query.read().split(' ')]\n",
    "numOfObservedVars = query_vec[0]\n",
    "observations = {}\n",
    "for i in range(numOfObservedVars):\n",
    "    observations[query_vec[2*i+1]] = query_vec[2*i+2]\n",
    "\n",
    "#Close the query file\n",
    "query.close()"
   ]
  },
  {
   "cell_type": "code",
   "execution_count": 31,
   "metadata": {},
   "outputs": [
    {
     "data": {
      "text/plain": [
       "{1: 0, 2: 1}"
      ]
     },
     "execution_count": 31,
     "metadata": {},
     "output_type": "execute_result"
    }
   ],
   "source": [
    "observations"
   ]
  },
  {
   "cell_type": "code",
   "execution_count": null,
   "metadata": {},
   "outputs": [],
   "source": [
    "#Produce encodings for the indicator variables \n",
    "# of the elementary assignments (X_i,j)\n",
    "indicatorVars = {}\n",
    "encoding = 1\n",
    "for var in range(numOfvars):\n",
    "    indicatorVars[i] = []\n",
    "    for cardinality in range(cardinalities[i]):\n",
    "        indicatorVars[i].append(encoding)\n",
    "        encoding = encoding + 1\n",
    "\n",
    "#Produce encodings for each conditional probability weight in every CPT\n",
    "weightIndicatorVars = {}\n",
    "for var in range(numOfvars):\n",
    "    weightIndicatorVars[var] = []\n",
    "    for w sizeOfCPT[var]:\n",
    "        weightIndicatorVars[var].append(encoding)\n",
    "        encoding = encoding + 1\n",
    "    \n",
    "F = []\n",
    "#Generate clauses for elementary assignements\n",
    "#For each variable constructs the corresponding clauses\n",
    "for i in range(numOfvars):\n",
    "    #Genrate clause for possible states of the variable i\n",
    "    clause = []\n",
    "    for cardinality in range(cardinalities[i]):\n",
    "        clause.append(indicatorVars[i][cardinality])\n",
    "    F.append(clause)\n",
    "    \n",
    "    #Generate clause for every different pair of possible states\n",
    "    # of the variable i\n",
    "    for n in range(cardinalities[i]):\n",
    "        clause = []\n",
    "        for m in range(n+1, cardinalities[i]):\n",
    "            clause.append(-indicatorVars[i][n])\n",
    "            clause.append(-indicatorVars[i][m])\n",
    "        F.append(clause)\n",
    "\n",
    "#Genrate clauses for the CPT\n",
    "\n",
    "    "
   ]
  },
  {
   "cell_type": "code",
   "execution_count": 23,
   "metadata": {},
   "outputs": [
    {
     "ename": "NameError",
     "evalue": "name 'F' is not defined",
     "output_type": "error",
     "traceback": [
      "\u001b[1;31m---------------------------------------------------------------------------\u001b[0m",
      "\u001b[1;31mNameError\u001b[0m                                 Traceback (most recent call last)",
      "\u001b[1;32m<ipython-input-23-f4d604803730>\u001b[0m in \u001b[0;36m<module>\u001b[1;34m()\u001b[0m\n\u001b[1;32m----> 1\u001b[1;33m \u001b[0mF\u001b[0m\u001b[1;33m\u001b[0m\u001b[0m\n\u001b[0m",
      "\u001b[1;31mNameError\u001b[0m: name 'F' is not defined"
     ]
    }
   ],
   "source": [
    "F"
   ]
  },
  {
   "cell_type": "code",
   "execution_count": 12,
   "metadata": {},
   "outputs": [
    {
     "data": {
      "text/plain": [
       "[2, 2, 3]"
      ]
     },
     "execution_count": 12,
     "metadata": {},
     "output_type": "execute_result"
    }
   ],
   "source": [
    "cardinalities"
   ]
  },
  {
   "cell_type": "code",
   "execution_count": null,
   "metadata": {},
   "outputs": [],
   "source": []
  }
 ],
 "metadata": {
  "kernelspec": {
   "display_name": "Python 3",
   "language": "python",
   "name": "python3"
  },
  "language_info": {
   "codemirror_mode": {
    "name": "ipython",
    "version": 3
   },
   "file_extension": ".py",
   "mimetype": "text/x-python",
   "name": "python",
   "nbconvert_exporter": "python",
   "pygments_lexer": "ipython3",
   "version": "3.6.5"
  }
 },
 "nbformat": 4,
 "nbformat_minor": 2
}
